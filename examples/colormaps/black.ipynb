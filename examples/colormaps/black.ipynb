{
 "cells": [
  {
   "cell_type": "markdown",
   "metadata": {},
   "source": [
    "# Black"
   ]
  },
  {
   "cell_type": "markdown",
   "metadata": {},
   "source": [
    "This colormap is constructed from [shades of black](https://en.wikipedia.org/wiki/Shades_of_black). It is meant to be used for qualitative data in an application where a dark colormap is appropriate.\n",
    "\n",
    "This colormap __is not__:\n",
    "* colorblind friendly\n",
    "* perceptually uniform"
   ]
  },
  {
   "cell_type": "code",
   "execution_count": null,
   "metadata": {},
   "outputs": [],
   "source": [
    "from contrib_colormaps.plotting import swatch\n",
    "import holoviews as hv\n",
    "hv.extension('bokeh', 'matplotlib', logo=False)"
   ]
  },
  {
   "cell_type": "code",
   "execution_count": null,
   "metadata": {},
   "outputs": [],
   "source": [
    "%matplotlib inline\n",
    "hv.render(swatch('black'), backend='matplotlib')"
   ]
  },
  {
   "cell_type": "code",
   "execution_count": null,
   "metadata": {},
   "outputs": [],
   "source": [
    "from bokeh.plotting import show\n",
    "show(hv.render(swatch('black'), backend='bokeh'))"
   ]
  },
  {
   "cell_type": "markdown",
   "metadata": {},
   "source": [
    "## Example:"
   ]
  },
  {
   "cell_type": "code",
   "execution_count": null,
   "metadata": {},
   "outputs": [],
   "source": [
    "import numpy as np\n",
    "\n",
    "import contrib_colormaps as cc\n",
    "\n",
    "N = len(cc.black)\n",
    "data = np.vstack([np.roll(np.arange(N), -i) for i in range(N)])\n",
    "dbox = np.vstack([np.hstack([data, np.flip(data, axis=1)]),\n",
    "                np.hstack([np.flip(data, axis=0), np.flip(data, axis=[0,1])])])"
   ]
  },
  {
   "cell_type": "code",
   "execution_count": null,
   "metadata": {},
   "outputs": [],
   "source": [
    "import matplotlib.pyplot as plt\n",
    "import matplotlib.colors as mcolors\n",
    "\n",
    "fig, ax = plt.subplots(figsize=(9,9))\n",
    "ax.imshow(dbox, cmap=cc.m_black)\n",
    "ax.axis('off')\n",
    "ax.set_aspect('equal')\n",
    "plt.show()"
   ]
  },
  {
   "cell_type": "code",
   "execution_count": null,
   "metadata": {},
   "outputs": [],
   "source": [
    "from bokeh.plotting import figure, show, output_notebook\n",
    "\n",
    "output_notebook()\n",
    "p = figure()\n",
    "p.image([dbox], x=0, y=0, dw=1, dh=1, palette=cc.b_black)\n",
    "show(p)"
   ]
  }
 ],
 "metadata": {
  "kernelspec": {
   "display_name": "Python 3",
   "language": "python",
   "name": "python3"
  },
  "language_info": {
   "codemirror_mode": {
    "name": "ipython",
    "version": 3
   },
   "file_extension": ".py",
   "mimetype": "text/x-python",
   "name": "python",
   "nbconvert_exporter": "python",
   "pygments_lexer": "ipython3",
   "version": "3.7.4"
  }
 },
 "nbformat": 4,
 "nbformat_minor": 2
}
