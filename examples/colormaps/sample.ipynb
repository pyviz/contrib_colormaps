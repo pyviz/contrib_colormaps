{
 "cells": [
  {
   "cell_type": "markdown",
   "metadata": {},
   "source": [
    "The ``sample`` colormap is a placeholder to demonstrate what it looks like to put a new colormap in contrib_colormaps.\n",
    "This notebook should explain the use case for a particular colormap. Ideally images should be generated within this notebook, but if that would require external data, then add an image to ../assets and include it in your PR.\n",
    "\n",
    "To contribute a new colormap, see the contributing section of the [README](https://github.com/pyviz/contrib_colormaps#contributing). To learn more about how to use the various colormaps and what each is for, see the [colormaps section](colormaps/index.ipynb)."
   ]
  },
  {
   "cell_type": "code",
   "execution_count": null,
   "metadata": {},
   "outputs": [],
   "source": [
    "from contrib_colormaps.plotting import swatch\n",
    "import holoviews as hv\n",
    "hv.extension('bokeh', logo=False)\n",
    "\n",
    "swatch('sample')"
   ]
  }
 ],
 "metadata": {
  "language_info": {
   "name": "python",
   "pygments_lexer": "ipython3"
  }
 },
 "nbformat": 4,
 "nbformat_minor": 2
}
