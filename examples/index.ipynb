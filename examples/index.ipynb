{
 "cells": [
  {
   "cell_type": "markdown",
   "metadata": {},
   "source": [
    "## Collection of user-contributed colormaps\n",
    "\n",
    "[contrib_colormaps](https://github.com/pyviz/contrib_colormaps) is a collection of \n",
    "user-contributed colormaps for use with Python plotting programs like\n",
    "[Bokeh](http://bokeh.pydata.org),\n",
    "[Matplotlib](http://matplotlib.org),\n",
    "[HoloViews](http://holoviews.org), and\n",
    "[Datashader](https://github.com/pyviz/datashader). \n",
    "\n"
   ]
  }
 ],
 "metadata": {
  "language_info": {
   "name": "python",
   "pygments_lexer": "ipython3"
  }
 },
 "nbformat": 4,
 "nbformat_minor": 2
}
