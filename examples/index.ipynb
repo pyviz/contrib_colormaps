{
 "cells": [
  {
   "cell_type": "markdown",
   "metadata": {},
   "source": [
    "## Collection of user-contributed colormaps\n",
    "\n",
    "[contrib_colormaps](https://github.com/pyviz/contrib_colormaps) is a collection of \n",
    "user-contributed colormaps for use with Python plotting programs like\n",
    "[Bokeh](http://bokeh.pydata.org),\n",
    "[Matplotlib](http://matplotlib.org),\n",
    "[HoloViews](http://holoviews.org), and\n",
    "[Datashader](https://github.com/pyviz/datashader). \n",
    "\n",
    "Below are all the colormaps in the current version of the library. To contribute a new colormap, see the contributing section of the [README](https://github.com/pyviz/contrib_colormaps#contributing). To learn more about how to use the various colormaps and what each is for, see the [colormaps section](colormaps/index.ipynb)."
   ]
  },
  {
   "cell_type": "code",
   "execution_count": null,
   "metadata": {},
   "outputs": [],
   "source": [
    "from contrib_colormaps.plotting import swatches\n",
    "import holoviews as hv\n",
    "hv.extension('bokeh', logo=False)\n",
    "\n",
    "swatches()"
   ]
  }
 ],
 "metadata": {
  "language_info": {
   "name": "python",
   "pygments_lexer": "ipython3"
  }
 },
 "nbformat": 4,
 "nbformat_minor": 2
}
